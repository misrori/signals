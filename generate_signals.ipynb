{
 "cells": [
  {
   "cell_type": "code",
   "execution_count": 1,
   "metadata": {},
   "outputs": [
    {
     "name": "stdout",
     "output_type": "stream",
     "text": [
      "Collecting goldhand\n",
      "  Downloading goldhand-15.4-py3-none-any.whl.metadata (2.0 kB)\n",
      "Collecting pandas-datareader (from goldhand)\n",
      "  Downloading pandas_datareader-0.10.0-py3-none-any.whl (109 kB)\n",
      "\u001b[2K     \u001b[90m━━━━━━━━━━━━━━━━━━━━━━━━━━━━━━━━━━━━━━━\u001b[0m \u001b[32m109.5/109.5 kB\u001b[0m \u001b[31m2.7 MB/s\u001b[0m eta \u001b[36m0:00:00\u001b[0ma \u001b[36m0:00:01\u001b[0m\n",
      "\u001b[?25hRequirement already satisfied: pandas in /home/codespace/.local/lib/python3.10/site-packages (from goldhand) (2.1.3)\n",
      "Collecting pandas-ta (from goldhand)\n",
      "  Downloading pandas_ta-0.3.14b.tar.gz (115 kB)\n",
      "\u001b[2K     \u001b[90m━━━━━━━━━━━━━━━━━━━━━━━━━━━━━━━━━━━━━━━\u001b[0m \u001b[32m115.1/115.1 kB\u001b[0m \u001b[31m3.2 MB/s\u001b[0m eta \u001b[36m0:00:00\u001b[0m\n",
      "\u001b[?25h  Installing build dependencies ... \u001b[?25ldone\n",
      "\u001b[?25h  Getting requirements to build wheel ... \u001b[?25ldone\n",
      "\u001b[?25h  Preparing metadata (pyproject.toml) ... \u001b[?25ldone\n",
      "\u001b[?25hRequirement already satisfied: plotly in /home/codespace/.local/lib/python3.10/site-packages (from goldhand) (5.18.0)\n",
      "Requirement already satisfied: scipy in /home/codespace/.local/lib/python3.10/site-packages (from goldhand) (1.11.4)\n",
      "Requirement already satisfied: numpy in /home/codespace/.local/lib/python3.10/site-packages (from goldhand) (1.26.2)\n",
      "Requirement already satisfied: requests in /home/codespace/.local/lib/python3.10/site-packages (from goldhand) (2.31.0)\n",
      "Collecting cloudscraper (from goldhand)\n",
      "  Downloading cloudscraper-1.2.71-py2.py3-none-any.whl (99 kB)\n",
      "\u001b[2K     \u001b[90m━━━━━━━━━━━━━━━━━━━━━━━━━━━━━━━━━━━━━━━━\u001b[0m \u001b[32m99.7/99.7 kB\u001b[0m \u001b[31m2.8 MB/s\u001b[0m eta \u001b[36m0:00:00\u001b[0m\n",
      "\u001b[?25hCollecting tqdm (from goldhand)\n",
      "  Downloading tqdm-4.66.1-py3-none-any.whl.metadata (57 kB)\n",
      "\u001b[2K     \u001b[90m━━━━━━━━━━━━━━━━━━━━━━━━━━━━━━━━━━━━━━━━\u001b[0m \u001b[32m57.6/57.6 kB\u001b[0m \u001b[31m1.5 MB/s\u001b[0m eta \u001b[36m0:00:00\u001b[0m\n",
      "\u001b[?25hRequirement already satisfied: pyparsing>=2.4.7 in /home/codespace/.local/lib/python3.10/site-packages (from cloudscraper->goldhand) (3.1.1)\n",
      "Collecting requests-toolbelt>=0.9.1 (from cloudscraper->goldhand)\n",
      "  Downloading requests_toolbelt-1.0.0-py2.py3-none-any.whl (54 kB)\n",
      "\u001b[2K     \u001b[90m━━━━━━━━━━━━━━━━━━━━━━━━━━━━━━━━━━━━━━━━\u001b[0m \u001b[32m54.5/54.5 kB\u001b[0m \u001b[31m1.4 MB/s\u001b[0m eta \u001b[36m0:00:00\u001b[0m\n",
      "\u001b[?25hRequirement already satisfied: charset-normalizer<4,>=2 in /home/codespace/.local/lib/python3.10/site-packages (from requests->goldhand) (3.3.2)\n",
      "Requirement already satisfied: idna<4,>=2.5 in /home/codespace/.local/lib/python3.10/site-packages (from requests->goldhand) (3.6)\n",
      "Requirement already satisfied: urllib3<3,>=1.21.1 in /usr/local/python/3.10.13/lib/python3.10/site-packages (from requests->goldhand) (2.0.7)\n",
      "Requirement already satisfied: certifi>=2017.4.17 in /home/codespace/.local/lib/python3.10/site-packages (from requests->goldhand) (2023.11.17)\n",
      "Requirement already satisfied: python-dateutil>=2.8.2 in /home/codespace/.local/lib/python3.10/site-packages (from pandas->goldhand) (2.8.2)\n",
      "Requirement already satisfied: pytz>=2020.1 in /home/codespace/.local/lib/python3.10/site-packages (from pandas->goldhand) (2023.3.post1)\n",
      "Requirement already satisfied: tzdata>=2022.1 in /home/codespace/.local/lib/python3.10/site-packages (from pandas->goldhand) (2023.3)\n",
      "Collecting lxml (from pandas-datareader->goldhand)\n",
      "  Downloading lxml-5.1.0-cp310-cp310-manylinux_2_17_x86_64.manylinux2014_x86_64.whl.metadata (3.5 kB)\n",
      "Requirement already satisfied: tenacity>=6.2.0 in /home/codespace/.local/lib/python3.10/site-packages (from plotly->goldhand) (8.2.3)\n",
      "Requirement already satisfied: packaging in /home/codespace/.local/lib/python3.10/site-packages (from plotly->goldhand) (23.2)\n",
      "Requirement already satisfied: six>=1.5 in /home/codespace/.local/lib/python3.10/site-packages (from python-dateutil>=2.8.2->pandas->goldhand) (1.16.0)\n",
      "Downloading goldhand-15.4-py3-none-any.whl (17 kB)\n",
      "Downloading tqdm-4.66.1-py3-none-any.whl (78 kB)\n",
      "\u001b[2K   \u001b[90m━━━━━━━━━━━━━━━━━━━━━━━━━━━━━━━━━━━━━━━━\u001b[0m \u001b[32m78.3/78.3 kB\u001b[0m \u001b[31m1.9 MB/s\u001b[0m eta \u001b[36m0:00:00\u001b[0meta \u001b[36m0:00:01\u001b[0m\n",
      "\u001b[?25hDownloading lxml-5.1.0-cp310-cp310-manylinux_2_17_x86_64.manylinux2014_x86_64.whl (8.0 MB)\n",
      "\u001b[2K   \u001b[90m━━━━━━━━━━━━━━━━━━━━━━━━━━━━━━━━━━━━━━━━\u001b[0m \u001b[32m8.0/8.0 MB\u001b[0m \u001b[31m51.9 MB/s\u001b[0m eta \u001b[36m0:00:00\u001b[0m:00:01\u001b[0m00:01\u001b[0m\n",
      "\u001b[?25hBuilding wheels for collected packages: pandas-ta\n",
      "  Building wheel for pandas-ta (pyproject.toml) ... \u001b[?25ldone\n",
      "\u001b[?25h  Created wheel for pandas-ta: filename=pandas_ta-0.3.14b0-py3-none-any.whl size=218910 sha256=4ac328d42baae9512ee87ffacba97cdbe93b26f9f80c7f749e5435f6f1ee57dd\n",
      "  Stored in directory: /home/codespace/.cache/pip/wheels/69/00/ac/f7fa862c34b0e2ef320175100c233377b4c558944f12474cf0\n",
      "Successfully built pandas-ta\n",
      "Installing collected packages: tqdm, lxml, requests-toolbelt, pandas-ta, pandas-datareader, cloudscraper, goldhand\n",
      "Successfully installed cloudscraper-1.2.71 goldhand-15.4 lxml-5.1.0 pandas-datareader-0.10.0 pandas-ta-0.3.14b0 requests-toolbelt-1.0.0 tqdm-4.66.1\n",
      "\n",
      "\u001b[1m[\u001b[0m\u001b[34;49mnotice\u001b[0m\u001b[1;39;49m]\u001b[0m\u001b[39;49m A new release of pip is available: \u001b[0m\u001b[31;49m23.3.1\u001b[0m\u001b[39;49m -> \u001b[0m\u001b[32;49m23.3.2\u001b[0m\n",
      "\u001b[1m[\u001b[0m\u001b[34;49mnotice\u001b[0m\u001b[1;39;49m]\u001b[0m\u001b[39;49m To update, run: \u001b[0m\u001b[32;49mpython -m pip install --upgrade pip\u001b[0m\n"
     ]
    }
   ],
   "source": [
    "! pip install goldhand"
   ]
  },
  {
   "cell_type": "code",
   "execution_count": null,
   "metadata": {},
   "outputs": [],
   "source": []
  },
  {
   "cell_type": "code",
   "execution_count": 1,
   "metadata": {},
   "outputs": [
    {
     "name": "stderr",
     "output_type": "stream",
     "text": [
      " 31%|███       | 620/2000 [03:11<06:14,  3.69it/s]"
     ]
    }
   ],
   "source": [
    "from goldhand import *\n",
    "from tqdm import tqdm\n",
    "from IPython.display import display\n",
    "import numpy as np\n",
    "import pandas_ta as ta\n",
    "import warnings\n",
    "import pandas as pd\n",
    "from datetime import datetime\n",
    "pd.set_option('display.max_rows', 70)\n",
    "warnings.filterwarnings('ignore')\n",
    "\n",
    "tw=Tw()\n",
    "\n",
    "rsi_all_trades = []\n",
    "rsi_all_trades_summaries=[]\n",
    "\n",
    "gh_all_trades = []\n",
    "gh_all_trades_summary = []\n",
    "\n",
    "\n",
    "for ticker in tqdm(tw.stock['name'][0:2000]):\n",
    "    try:\n",
    "        # get data\n",
    "        data = GoldHand(ticker).df\n",
    "\n",
    "        # backtest\n",
    "        rsi_backtest = Backtest( data, rsi_strategy, plot_title=tw.get_plotly_title(ticker), buy_threshold=30, sell_threshold=70)\n",
    "\n",
    "        # results of backtest\n",
    "        rsi_trades = rsi_backtest.trades\n",
    "        rsi_trades_summary= rsi_backtest.trades_summary\n",
    "\n",
    "        # append results\n",
    "        rsi_all_trades.append(rsi_trades)\n",
    "        rsi_all_trades_summaries.append(rsi_trades_summary)\n",
    "\n",
    "        goldhand_backtest = Backtest( data, goldhand_line_strategy, plot_title=tw.get_plotly_title(ticker))\n",
    "        gh_trades = goldhand_backtest.trades\n",
    "        gh_trades_summary = goldhand_backtest.trades_summary\n",
    "\n",
    "        gh_all_trades.append(gh_trades)\n",
    "        gh_all_trades_summary.append(gh_trades_summary)\n",
    "\n",
    "\n",
    "    except:\n",
    "      pass\n",
    "\n",
    "rsi_tradesdf = pd.concat(rsi_all_trades, ignore_index=True)\n",
    "rsi_trades_summarydf = pd.DataFrame(rsi_all_trades_summaries)\n",
    "\n",
    "gh_tradesdf = pd.concat(gh_all_trades, ignore_index=True)\n",
    "gh_trades_summarydf = pd.DataFrame(gh_all_trades_summary)\n",
    "\n",
    "\n",
    "\n",
    "\n",
    "\n",
    "# Get the current date in the format YYYY-MM-DD\n",
    "current_date = datetime.now().strftime(\"%Y-%m-%d\")\n",
    "\n",
    "# Update filenames with the current date\n",
    "rsi_tradesdf.to_csv(f\"/content/signals/rsi_tradesdf_{current_date}.csv\", index=False)\n",
    "rsi_trades_summarydf.to_csv(f\"/content/signals/rsi_trades_summarydf_{current_date}.csv\", index=False)\n",
    "gh_tradesdf.to_csv(f\"/content/signals/gh_tradesdf_{current_date}.csv\", index=False)\n",
    "gh_trades_summarydf.to_csv(f\"/content/signals/gh_trades_summarydf_{current_date}.csv\", index=False)\n",
    "\n"
   ]
  },
  {
   "cell_type": "code",
   "execution_count": null,
   "metadata": {},
   "outputs": [],
   "source": [
    "! git add .\n",
    "! git commit -m 'd'\n",
    "! git push "
   ]
  },
  {
   "cell_type": "code",
   "execution_count": null,
   "metadata": {},
   "outputs": [],
   "source": [
    "! git commit -m 'data-2024-01-13'"
   ]
  },
  {
   "cell_type": "code",
   "execution_count": null,
   "metadata": {},
   "outputs": [],
   "source": [
    "! git push "
   ]
  }
 ],
 "metadata": {
  "kernelspec": {
   "display_name": "Python 3",
   "language": "python",
   "name": "python3"
  },
  "language_info": {
   "codemirror_mode": {
    "name": "ipython",
    "version": 3
   },
   "file_extension": ".py",
   "mimetype": "text/x-python",
   "name": "python",
   "nbconvert_exporter": "python",
   "pygments_lexer": "ipython3",
   "version": "3.10.13"
  }
 },
 "nbformat": 4,
 "nbformat_minor": 2
}
